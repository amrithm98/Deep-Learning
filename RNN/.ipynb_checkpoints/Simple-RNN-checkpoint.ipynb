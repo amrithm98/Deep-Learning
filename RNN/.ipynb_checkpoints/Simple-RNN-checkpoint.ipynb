{
 "cells": [
  {
   "cell_type": "code",
   "execution_count": 1,
   "metadata": {
    "collapsed": true
   },
   "outputs": [],
   "source": [
    "import numpy as np\n",
    "import pandas as pd"
   ]
  },
  {
   "cell_type": "markdown",
   "metadata": {},
   "source": [
    "## Setting Up Data"
   ]
  },
  {
   "cell_type": "markdown",
   "metadata": {},
   "source": [
    "input: first Character \n",
    "output : next Character"
   ]
  },
  {
   "cell_type": "code",
   "execution_count": 2,
   "metadata": {
    "collapsed": true
   },
   "outputs": [],
   "source": [
    "# Using Kafka txt Metamorphosis ...\n",
    "# Input+Prev_hidden --> hidden -->output"
   ]
  },
  {
   "cell_type": "code",
   "execution_count": 3,
   "metadata": {
    "collapsed": true
   },
   "outputs": [],
   "source": [
    "data=open('kafka.txt','r').read()"
   ]
  },
  {
   "cell_type": "code",
   "execution_count": 4,
   "metadata": {
    "collapsed": true
   },
   "outputs": [],
   "source": [
    "data_size=len(data)          # Full Data\n",
    "chars=list(set(data))        # Set of Characters\n",
    "char_size=len(chars)       "
   ]
  },
  {
   "cell_type": "code",
   "execution_count": 5,
   "metadata": {},
   "outputs": [
    {
     "data": {
      "text/plain": [
       "(138417, 81)"
      ]
     },
     "execution_count": 5,
     "metadata": {},
     "output_type": "execute_result"
    }
   ],
   "source": [
    "data_size,char_size"
   ]
  },
  {
   "cell_type": "code",
   "execution_count": 6,
   "metadata": {
    "collapsed": true
   },
   "outputs": [],
   "source": [
    "#Need to Make of vector with number of unique characters size. if character is an '\\n' , then vector is [1,0,0,0,......(81 chars)]"
   ]
  },
  {
   "cell_type": "markdown",
   "metadata": {},
   "source": [
    "## Dictionaries for Index-Char Conversions"
   ]
  },
  {
   "cell_type": "code",
   "execution_count": 7,
   "metadata": {},
   "outputs": [
    {
     "data": {
      "text/plain": [
       "({'\\n': 0,\n",
       "  ' ': 4,\n",
       "  '!': 3,\n",
       "  '\"': 5,\n",
       "  '$': 7,\n",
       "  '%': 6,\n",
       "  \"'\": 8,\n",
       "  '(': 10,\n",
       "  ')': 9,\n",
       "  '*': 11,\n",
       "  ',': 13,\n",
       "  '-': 12,\n",
       "  '.': 15,\n",
       "  '/': 2,\n",
       "  '0': 17,\n",
       "  '1': 16,\n",
       "  '2': 19,\n",
       "  '3': 18,\n",
       "  '4': 21,\n",
       "  '5': 20,\n",
       "  '6': 23,\n",
       "  '7': 22,\n",
       "  '8': 25,\n",
       "  '9': 24,\n",
       "  ':': 27,\n",
       "  ';': 26,\n",
       "  '?': 28,\n",
       "  '@': 30,\n",
       "  'A': 29,\n",
       "  'B': 32,\n",
       "  'C': 31,\n",
       "  'D': 34,\n",
       "  'E': 33,\n",
       "  'F': 36,\n",
       "  'G': 35,\n",
       "  'H': 38,\n",
       "  'I': 37,\n",
       "  'J': 40,\n",
       "  'K': 39,\n",
       "  'L': 42,\n",
       "  'M': 41,\n",
       "  'N': 44,\n",
       "  'O': 43,\n",
       "  'P': 46,\n",
       "  'Q': 45,\n",
       "  'R': 48,\n",
       "  'S': 47,\n",
       "  'T': 50,\n",
       "  'U': 49,\n",
       "  'V': 52,\n",
       "  'W': 51,\n",
       "  'X': 54,\n",
       "  'Y': 53,\n",
       "  'a': 55,\n",
       "  'b': 57,\n",
       "  'c': 56,\n",
       "  'd': 59,\n",
       "  'e': 58,\n",
       "  'f': 61,\n",
       "  'g': 60,\n",
       "  'h': 63,\n",
       "  'i': 62,\n",
       "  'j': 65,\n",
       "  'k': 64,\n",
       "  'l': 67,\n",
       "  'm': 66,\n",
       "  'n': 69,\n",
       "  'o': 68,\n",
       "  'p': 71,\n",
       "  'q': 70,\n",
       "  'r': 73,\n",
       "  's': 72,\n",
       "  't': 75,\n",
       "  'u': 74,\n",
       "  'v': 77,\n",
       "  'w': 76,\n",
       "  'x': 79,\n",
       "  'y': 78,\n",
       "  'z': 80,\n",
       "  '\\xa7': 14,\n",
       "  '\\xc3': 1},\n",
       " {0: '\\n',\n",
       "  1: '\\xc3',\n",
       "  2: '/',\n",
       "  3: '!',\n",
       "  4: ' ',\n",
       "  5: '\"',\n",
       "  6: '%',\n",
       "  7: '$',\n",
       "  8: \"'\",\n",
       "  9: ')',\n",
       "  10: '(',\n",
       "  11: '*',\n",
       "  12: '-',\n",
       "  13: ',',\n",
       "  14: '\\xa7',\n",
       "  15: '.',\n",
       "  16: '1',\n",
       "  17: '0',\n",
       "  18: '3',\n",
       "  19: '2',\n",
       "  20: '5',\n",
       "  21: '4',\n",
       "  22: '7',\n",
       "  23: '6',\n",
       "  24: '9',\n",
       "  25: '8',\n",
       "  26: ';',\n",
       "  27: ':',\n",
       "  28: '?',\n",
       "  29: 'A',\n",
       "  30: '@',\n",
       "  31: 'C',\n",
       "  32: 'B',\n",
       "  33: 'E',\n",
       "  34: 'D',\n",
       "  35: 'G',\n",
       "  36: 'F',\n",
       "  37: 'I',\n",
       "  38: 'H',\n",
       "  39: 'K',\n",
       "  40: 'J',\n",
       "  41: 'M',\n",
       "  42: 'L',\n",
       "  43: 'O',\n",
       "  44: 'N',\n",
       "  45: 'Q',\n",
       "  46: 'P',\n",
       "  47: 'S',\n",
       "  48: 'R',\n",
       "  49: 'U',\n",
       "  50: 'T',\n",
       "  51: 'W',\n",
       "  52: 'V',\n",
       "  53: 'Y',\n",
       "  54: 'X',\n",
       "  55: 'a',\n",
       "  56: 'c',\n",
       "  57: 'b',\n",
       "  58: 'e',\n",
       "  59: 'd',\n",
       "  60: 'g',\n",
       "  61: 'f',\n",
       "  62: 'i',\n",
       "  63: 'h',\n",
       "  64: 'k',\n",
       "  65: 'j',\n",
       "  66: 'm',\n",
       "  67: 'l',\n",
       "  68: 'o',\n",
       "  69: 'n',\n",
       "  70: 'q',\n",
       "  71: 'p',\n",
       "  72: 's',\n",
       "  73: 'r',\n",
       "  74: 'u',\n",
       "  75: 't',\n",
       "  76: 'w',\n",
       "  77: 'v',\n",
       "  78: 'y',\n",
       "  79: 'x',\n",
       "  80: 'z'})"
      ]
     },
     "execution_count": 7,
     "metadata": {},
     "output_type": "execute_result"
    }
   ],
   "source": [
    "char_to_int={ch:i for i,ch in enumerate(chars)}\n",
    "int_to_char={i:ch for i,ch in enumerate(chars)}\n",
    "\n",
    "char_to_int,int_to_char"
   ]
  },
  {
   "cell_type": "markdown",
   "metadata": {},
   "source": [
    "## Vector for a single character 'a'"
   ]
  },
  {
   "cell_type": "code",
   "execution_count": 8,
   "metadata": {
    "collapsed": true
   },
   "outputs": [],
   "source": [
    "vector_for_a=np.zeros((char_size,1))  #(81,1)\n",
    "vector_for_a[char_to_int['a']]=1      # [0,0,0,0,0,0,0,0,0,0.....1,0,0,0,0,0(81 Chars)]"
   ]
  },
  {
   "cell_type": "markdown",
   "metadata": {},
   "source": [
    "## HyperParameters"
   ]
  },
  {
   "cell_type": "code",
   "execution_count": 9,
   "metadata": {
    "collapsed": true
   },
   "outputs": [],
   "source": [
    "learning_rate=1e-1 \n",
    "hidden_layer_neurons=100\n",
    "sequence_length=25      # In one time step"
   ]
  },
  {
   "cell_type": "markdown",
   "metadata": {},
   "source": [
    "## Intialising the Weights And Bias"
   ]
  },
  {
   "cell_type": "code",
   "execution_count": 10,
   "metadata": {
    "collapsed": true
   },
   "outputs": [],
   "source": [
    "#Input-Hidden\n",
    "Wxh=np.random.randn(hidden_layer_neurons,char_size)*0.01   #Transpose of what is expected 100X81 Single I/P: 81X1"
   ]
  },
  {
   "cell_type": "code",
   "execution_count": 13,
   "metadata": {},
   "outputs": [
    {
     "data": {
      "text/plain": [
       "(100, 81)"
      ]
     },
     "execution_count": 13,
     "metadata": {},
     "output_type": "execute_result"
    }
   ],
   "source": [
    "Wxh.shape"
   ]
  },
  {
   "cell_type": "code",
   "execution_count": 14,
   "metadata": {
    "collapsed": true
   },
   "outputs": [],
   "source": [
    "#Recurring Weights...Hidden-Hidden\n",
    "Whh=np.random.randn(hidden_layer_neurons,hidden_layer_neurons)*0.01   #Transpose of what is expected 100X100"
   ]
  },
  {
   "cell_type": "code",
   "execution_count": 16,
   "metadata": {},
   "outputs": [
    {
     "data": {
      "text/plain": [
       "(100, 100)"
      ]
     },
     "execution_count": 16,
     "metadata": {},
     "output_type": "execute_result"
    }
   ],
   "source": [
    "Whh.shape"
   ]
  },
  {
   "cell_type": "code",
   "execution_count": 17,
   "metadata": {
    "collapsed": true
   },
   "outputs": [],
   "source": [
    "#Hidden-Output\n",
    "Why=np.random.randn(char_size,hidden_layer_neurons)*0.01   #Transpose of what is expected 81X100"
   ]
  },
  {
   "cell_type": "code",
   "execution_count": 18,
   "metadata": {},
   "outputs": [
    {
     "data": {
      "text/plain": [
       "(81, 100)"
      ]
     },
     "execution_count": 18,
     "metadata": {},
     "output_type": "execute_result"
    }
   ],
   "source": [
    "Why.shape"
   ]
  },
  {
   "cell_type": "code",
   "execution_count": 19,
   "metadata": {
    "collapsed": true
   },
   "outputs": [],
   "source": [
    "#Hidden Layer Bias\n",
    "bh=np.zeros((hidden_layer_neurons,1))\n",
    "#Output Bias\n",
    "by=np.zeros((char_size,1))"
   ]
  },
  {
   "cell_type": "code",
   "execution_count": 25,
   "metadata": {
    "collapsed": true
   },
   "outputs": [],
   "source": [
    "def loss(inputs,previous_hidden,outputs):\n",
    "    \n",
    "    xs,hs,ys,ps={},{},{},{}\n",
    "    \n",
    "    hs[-1]=np.copy(previous_hidden)\n",
    "    \n",
    "    loss=0\n",
    "    \n",
    "    #Forward Pass\n",
    "    \n",
    "    for t in range(len(inputs)):\n",
    "        \n",
    "        xs[t]=np.zeros((char_size,1))\n",
    "        \n",
    "        xs[t][inputs[t]]=1\n",
    "        \n",
    "        hs[t]=np.tanh(np.dot(Wxh,xs[t])+ np.dot(Whh,hs[t-1]) + bh)\n",
    "        \n",
    "        ys[t]=np.dot(Why,hs[t])+ by\n",
    "        \n",
    "        ps[t]=np.exp(ys[t])/np.sum(np.exp(ys[t]))\n",
    "        \n",
    "        loss+=-np.log(ps[t][ouputs[t],0])\n",
    "        \n",
    "    #Backward Pass\n",
    "    \n",
    "    dWxh,dWhh,dWhy=np.zeros_like(Wxh),np.zeros_like(Whh),np.zeros_like(Why)\n",
    "    \n",
    "    dbh,dby=np.zeros_like(bh),np.zeros_like(by)\n",
    "    \n",
    "    dhNext=np.zeros_like(hs[0])\n",
    "    \n",
    "    for t in reversed(xrange(len(inputs))):\n",
    "        \n",
    "        dy=np.copy(ps[t])\n",
    "        \n",
    "        #dLi/dfk=pk-1\n",
    "        dy[outputs[t]]-=1\n",
    "        \n",
    "        dWhy=np.dot(dy,hs[t].T)\n",
    "        \n",
    "        dby+=dy\n",
    "        \n",
    "        dh=np.dot(Why.T,dy) + dhNext\n",
    "        \n",
    "        dhRaw=(1-hs[t]*hs[t])*hs[t-1]\n",
    "        \n",
    "        dbh+=dhRaw\n",
    "        \n",
    "        dWxh+=np.dot(dhRaw,xs[t].T)\n",
    "        \n",
    "        dWhh+=np.dot(dhRaw,hs[t-1].T)\n",
    "        \n",
    "        dhNext=np.dot(Whh.T,dhRaw)\n",
    "        \n",
    "        for val in [dWxh,dWhy,dWhh,dbh,dby]:\n",
    "            np.clip(val,-5,5,out=val)\n",
    "            \n",
    "        return loss,dWxh,dWhh,dWhy,dbh,dby,hs[len(inputs)-1]"
   ]
  },
  {
   "cell_type": "code",
   "execution_count": null,
   "metadata": {
    "collapsed": true
   },
   "outputs": [],
   "source": []
  }
 ],
 "metadata": {
  "kernelspec": {
   "display_name": "Python 2",
   "language": "python",
   "name": "python2"
  },
  "language_info": {
   "codemirror_mode": {
    "name": "ipython",
    "version": 2
   },
   "file_extension": ".py",
   "mimetype": "text/x-python",
   "name": "python",
   "nbconvert_exporter": "python",
   "pygments_lexer": "ipython2",
   "version": "2.7.13"
  }
 },
 "nbformat": 4,
 "nbformat_minor": 2
}
